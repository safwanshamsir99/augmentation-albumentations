{
 "cells": [
  {
   "cell_type": "code",
   "execution_count": null,
   "metadata": {
    "vscode": {
     "languageId": "plaintext"
    }
   },
   "outputs": [],
   "source": [
    "import albumentations as A\n",
    "\n",
    "INPUT_IMAGE_SIZE = 224"
   ]
  },
  {
   "cell_type": "code",
   "execution_count": null,
   "metadata": {
    "vscode": {
     "languageId": "plaintext"
    }
   },
   "outputs": [],
   "source": [
    "aug_transform = A.Compose([\n",
    "    A.HorizontalFlip(p=1),\n",
    "    A.VerticalFlip(p=1),\n",
    "    A.RandomRotate90(p=1),\n",
    "    A.ColorJitter(brightness=0.3, contrast=0.3, saturation=0.1, hue=0.02, p=1),\n",
    "    A.RandomCropFromBorders(p=0.2),\n",
    "    A.Rotate(limit=(-5,5),p=0.5),\n",
    "    A.GaussNoise(p=0.1),\n",
    "    A.ISONoise(p=0.1),\n",
    "    A.Resize(INPUT_IMAGE_SIZE,INPUT_IMAGE_SIZE, p=0.5),\n",
    "    A.LongestMaxSize(max_size=[INPUT_IMAGE_SIZE,int(INPUT_IMAGE_SIZE*0.5), int(INPUT_IMAGE_SIZE*0.7)]),  # Resize the smaller edge\n",
    "    A.PadIfNeeded(min_height=INPUT_IMAGE_SIZE, min_width=INPUT_IMAGE_SIZE, border_mode=0, value=(0, 0, 0), position='random')\n",
    "])\n",
    "\n",
    "def augment_images(\n",
    "        input_dir:str, \n",
    "        output_dir:str, \n",
    "        num_aug: int)->None:\n",
    "    '''\n",
    "    Data augmentation function to oversample the minority class in the dataset. \n",
    "\n",
    "    Args:\n",
    "        - input_dir (str): Path to the input directory for the minority class\n",
    "        - output_dir (str): Path to the save directory for the augmented images\n",
    "        - num_aug (int): number of augmented image to be produced based on one image\n",
    "\n",
    "    Return:\n",
    "        - None\n",
    "    \n",
    "    Yield:\n",
    "        - Generated augmented images based on the minority class\n",
    "    '''\n",
    "    if not os.path.exists(output_dir):\n",
    "        os.makedirs(output_dir, exist_ok=True)\n",
    "    \n",
    "    for img_name in os.listdir(input_dir):\n",
    "        img_path = os.path.join(input_dir, img_name)\n",
    "        image = cv2.imread(img_path)\n",
    "        for i in range(num_aug):\n",
    "            augmented = aug_transform(image=image)\n",
    "            augmented_image = augmented['image']\n",
    "            new_img_name = f\"{os.path.splitext(img_name)}_aug_{i}.jpg\"\n",
    "            cv2.imwrite(os.path.join(output_dir, new_img_name), augmented_image)\n"
   ]
  },
  {
   "cell_type": "code",
   "execution_count": null,
   "metadata": {
    "vscode": {
     "languageId": "plaintext"
    }
   },
   "outputs": [],
   "source": [
    "IMG_TO_AUG = os.path.join(Path.cwd(), 'dataset_tf', 'fail')\n",
    "AUG_SAVE_DIR = os.path.join(Path.cwd(), 'dataset_tf', 'aug_fail') # dataset_tf is a folder\n",
    "NUM_AUG = 1  # Number of augmentations per image\n",
    "\n",
    "augment_images(input_dir=IMG_TO_AUG, output_dir=AUG_SAVE_DIR, num_aug=NUM_AUG)"
   ]
  }
 ],
 "metadata": {
  "language_info": {
   "name": "python"
  }
 },
 "nbformat": 4,
 "nbformat_minor": 2
}
